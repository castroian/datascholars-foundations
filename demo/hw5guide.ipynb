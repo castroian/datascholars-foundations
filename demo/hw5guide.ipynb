{
 "cells": [
  {
   "cell_type": "code",
   "execution_count": 1,
   "metadata": {},
   "outputs": [],
   "source": [
    "from datascience import *\n",
    "import numpy as np"
   ]
  },
  {
   "cell_type": "code",
   "execution_count": 4,
   "metadata": {},
   "outputs": [
    {
     "data": {
      "text/html": [
       "<table border=\"1\" class=\"dataframe\">\n",
       "    <thead>\n",
       "        <tr>\n",
       "            <th>year</th> <th>wood density</th> <th>burned</th> <th>type</th> <th>height</th>\n",
       "        </tr>\n",
       "    </thead>\n",
       "    <tbody>\n",
       "        <tr>\n",
       "            <td>1980</td> <td>0.813       </td> <td>no    </td> <td>oak    </td> <td>23    </td>\n",
       "        </tr>\n",
       "        <tr>\n",
       "            <td>1829</td> <td>0.529       </td> <td>yes   </td> <td>redwood</td> <td>127.47</td>\n",
       "        </tr>\n",
       "        <tr>\n",
       "            <td>2000</td> <td>0.601       </td> <td>no    </td> <td>pine   </td> <td>5.2   </td>\n",
       "        </tr>\n",
       "    </tbody>\n",
       "</table>"
      ],
      "text/plain": [
       "year | wood density | burned | type    | height\n",
       "1980 | 0.813        | no     | oak     | 23\n",
       "1829 | 0.529        | yes    | redwood | 127.47\n",
       "2000 | 0.601        | no     | pine    | 5.2"
      ]
     },
     "execution_count": 4,
     "metadata": {},
     "output_type": "execute_result"
    }
   ],
   "source": [
    "trees = Table().with_columns(\"year\", make_array(1980, 1829, 2000),\n",
    "                            \"wood density\", make_array(0.813, 0.529, 0.601),\n",
    "                            \"burned\", make_array(\"no\", \"yes\", 'no'),\n",
    "                            \"type\", make_array(\"oak\", 'redwood', 'pine'),\n",
    "                            \"height\", make_array(23, 127.47, 5.2))\n",
    "trees"
   ]
  },
  {
   "cell_type": "markdown",
   "metadata": {},
   "source": [
    "# Question 4 Adapted from Fall 2019 Midterm\n",
    "\n",
    "Update the table `trees` with an added column named Growth Speed that contains the average growth speed of the tree in meters per year. For example, if a tree was planted in 1999 (twenty-two years ago) and is 22 meters tall, its growth speed is 22/(2021-1999) = 1 meters/year.\n",
    "\n",
    "Here is the starter code provided by the question:"
   ]
  },
  {
   "cell_type": "code",
   "execution_count": null,
   "metadata": {},
   "outputs": [],
   "source": [
    "def compute_speed(...):\n",
    "    return ...\n",
    "\n",
    "growth_speeds = trees…\n",
    "trees.with_column(...)"
   ]
  },
  {
   "cell_type": "markdown",
   "metadata": {},
   "source": [
    "# Method 1: Applying a function on columns \n",
    "\n",
    "We want the growth speed for every tree in our table, so we will need to apply the function to the table. The tbl.apply(...) takes a function and column(s) as input. The number of columns you input depends on the number of inputs needed for your function. In this case, we have a function compute_speed, which has 2 inputs, height & year, so we need to provide 2 columns."
   ]
  },
  {
   "cell_type": "code",
   "execution_count": 49,
   "metadata": {},
   "outputs": [
    {
     "data": {
      "text/html": [
       "<table border=\"1\" class=\"dataframe\">\n",
       "    <thead>\n",
       "        <tr>\n",
       "            <th>year</th> <th>wood density</th> <th>burned</th> <th>type</th> <th>height</th> <th>Growth Speed</th>\n",
       "        </tr>\n",
       "    </thead>\n",
       "    <tbody>\n",
       "        <tr>\n",
       "            <td>1980</td> <td>0.813       </td> <td>no    </td> <td>oak    </td> <td>23    </td> <td>0.560976    </td>\n",
       "        </tr>\n",
       "        <tr>\n",
       "            <td>1829</td> <td>0.529       </td> <td>yes   </td> <td>redwood</td> <td>127.47</td> <td>0.663906    </td>\n",
       "        </tr>\n",
       "        <tr>\n",
       "            <td>2000</td> <td>0.601       </td> <td>no    </td> <td>pine   </td> <td>5.2   </td> <td>0.247619    </td>\n",
       "        </tr>\n",
       "    </tbody>\n",
       "</table>"
      ],
      "text/plain": [
       "year | wood density | burned | type    | height | Growth Speed\n",
       "1980 | 0.813        | no     | oak     | 23     | 0.560976\n",
       "1829 | 0.529        | yes    | redwood | 127.47 | 0.663906\n",
       "2000 | 0.601        | no     | pine    | 5.2    | 0.247619"
      ]
     },
     "execution_count": 49,
     "metadata": {},
     "output_type": "execute_result"
    }
   ],
   "source": [
    "# define the compute_speed function with array arguments\n",
    "def compute_speed(height, year):\n",
    "    return height / (2021 - year)\n",
    "\n",
    "# apply the function on the two columns in our table\n",
    "growth_speeds = trees.apply(compute_speed, \"height\", \"year\")\n",
    "\n",
    "# add the array of growth_speeds to the table\n",
    "trees.with_column(\"Growth Speed\", growth_speeds)"
   ]
  },
  {
   "cell_type": "markdown",
   "metadata": {},
   "source": [
    "# Method 2: Applying a function on rows \n"
   ]
  },
  {
   "cell_type": "markdown",
   "metadata": {},
   "source": [
    "This method uses row objects. Row objects are similar to arrays, but hold all of our information from a row in a table."
   ]
  },
  {
   "cell_type": "code",
   "execution_count": 41,
   "metadata": {},
   "outputs": [
    {
     "data": {
      "text/plain": [
       "Row(year=1980, wood density=0.813, burned='no', type='oak', height=23.0)"
      ]
     },
     "execution_count": 41,
     "metadata": {},
     "output_type": "execute_result"
    }
   ],
   "source": [
    "# Returns the first row from the trees table\n",
    "first_row = trees.row(0)\n",
    "first_row"
   ]
  },
  {
   "cell_type": "code",
   "execution_count": 32,
   "metadata": {},
   "outputs": [
    {
     "data": {
      "text/plain": [
       "1980"
      ]
     },
     "execution_count": 32,
     "metadata": {},
     "output_type": "execute_result"
    }
   ],
   "source": [
    "# We can index into the row object by index\n",
    "first_row.item(0)"
   ]
  },
  {
   "cell_type": "code",
   "execution_count": 33,
   "metadata": {},
   "outputs": [
    {
     "data": {
      "text/plain": [
       "1980"
      ]
     },
     "execution_count": 33,
     "metadata": {},
     "output_type": "execute_result"
    }
   ],
   "source": [
    "# Or, we can index into the row object by column name\n",
    "first_row.item('year')"
   ]
  },
  {
   "cell_type": "markdown",
   "metadata": {},
   "source": [
    "We want the growth speed for every row in our table, so we will need to apply the function to the table. A nice feature of tbl.apply(...) is that if you only provide a function and do not specify columns, then it will take in the whole row as input to the function. In this case, we can use the compute_speed function and take in a whole row from the trees table."
   ]
  },
  {
   "cell_type": "code",
   "execution_count": 43,
   "metadata": {},
   "outputs": [
    {
     "data": {
      "text/html": [
       "<table border=\"1\" class=\"dataframe\">\n",
       "    <thead>\n",
       "        <tr>\n",
       "            <th>year</th> <th>wood density</th> <th>burned</th> <th>type</th> <th>height</th> <th>Growth Speed</th>\n",
       "        </tr>\n",
       "    </thead>\n",
       "    <tbody>\n",
       "        <tr>\n",
       "            <td>1980</td> <td>0.813       </td> <td>no    </td> <td>oak    </td> <td>23    </td> <td>0.560976    </td>\n",
       "        </tr>\n",
       "        <tr>\n",
       "            <td>1829</td> <td>0.529       </td> <td>yes   </td> <td>redwood</td> <td>127.47</td> <td>0.663906    </td>\n",
       "        </tr>\n",
       "        <tr>\n",
       "            <td>2000</td> <td>0.601       </td> <td>no    </td> <td>pine   </td> <td>5.2   </td> <td>0.247619    </td>\n",
       "        </tr>\n",
       "    </tbody>\n",
       "</table>"
      ],
      "text/plain": [
       "year | wood density | burned | type    | height | Growth Speed\n",
       "1980 | 0.813        | no     | oak     | 23     | 0.560976\n",
       "1829 | 0.529        | yes    | redwood | 127.47 | 0.663906\n",
       "2000 | 0.601        | no     | pine    | 5.2    | 0.247619"
      ]
     },
     "execution_count": 43,
     "metadata": {},
     "output_type": "execute_result"
    }
   ],
   "source": [
    "# define the compute_speed function with a single row as input\n",
    "def compute_speed(row):\n",
    "    return row.item(\"height\") / (2021 - row.item(\"year\"))\n",
    "\n",
    "# apply the function on each row in the table\n",
    "growth_speeds = trees.apply(compute_speed)\n",
    "\n",
    "# add the array of growth_speeds to the table\n",
    "trees.with_column(\"Growth Speed\", growth_speeds)"
   ]
  },
  {
   "cell_type": "markdown",
   "metadata": {},
   "source": [
    "# Method 3: For Loops\n",
    "\n"
   ]
  },
  {
   "cell_type": "code",
   "execution_count": 57,
   "metadata": {},
   "outputs": [
    {
     "data": {
      "text/html": [
       "<table border=\"1\" class=\"dataframe\">\n",
       "    <thead>\n",
       "        <tr>\n",
       "            <th>year</th> <th>wood density</th> <th>burned</th> <th>type</th> <th>height</th> <th>growth speed</th>\n",
       "        </tr>\n",
       "    </thead>\n",
       "    <tbody>\n",
       "        <tr>\n",
       "            <td>1980</td> <td>0.813       </td> <td>no    </td> <td>oak    </td> <td>23    </td> <td>0.560976    </td>\n",
       "        </tr>\n",
       "        <tr>\n",
       "            <td>1829</td> <td>0.529       </td> <td>yes   </td> <td>redwood</td> <td>127.47</td> <td>0.663906    </td>\n",
       "        </tr>\n",
       "        <tr>\n",
       "            <td>2000</td> <td>0.601       </td> <td>no    </td> <td>pine   </td> <td>5.2   </td> <td>0.247619    </td>\n",
       "        </tr>\n",
       "    </tbody>\n",
       "</table>"
      ],
      "text/plain": [
       "year | wood density | burned | type    | height | growth speed\n",
       "1980 | 0.813        | no     | oak     | 23     | 0.560976\n",
       "1829 | 0.529        | yes    | redwood | 127.47 | 0.663906\n",
       "2000 | 0.601        | no     | pine    | 5.2    | 0.247619"
      ]
     },
     "execution_count": 57,
     "metadata": {},
     "output_type": "execute_result"
    }
   ],
   "source": [
    "# compute_speed function from method 1\n",
    "def compute_speed(height, year):\n",
    "    return height / (2021 - year)\n",
    "\n",
    "# Storage array\n",
    "speeds_array = make_array()\n",
    "\n",
    "for i in np.arange(trees.num_rows):\n",
    "    tree_height = compute_speed(trees.column(\"height\").item(i), trees.column(\"year\").item(i))\n",
    "    speeds_array = np.append(speeds_array, tree_height) \n",
    "\n",
    "\n",
    "# add the array as a new column to trees and then save it to the name “trees”\n",
    "trees.with_column(\"growth speed\", speeds_array) "
   ]
  },
  {
   "cell_type": "code",
   "execution_count": null,
   "metadata": {},
   "outputs": [],
   "source": []
  }
 ],
 "metadata": {
  "kernelspec": {
   "display_name": "Python 3",
   "language": "python",
   "name": "python3"
  },
  "language_info": {
   "codemirror_mode": {
    "name": "ipython",
    "version": 3
   },
   "file_extension": ".py",
   "mimetype": "text/x-python",
   "name": "python",
   "nbconvert_exporter": "python",
   "pygments_lexer": "ipython3",
   "version": "3.8.6"
  }
 },
 "nbformat": 4,
 "nbformat_minor": 4
}
