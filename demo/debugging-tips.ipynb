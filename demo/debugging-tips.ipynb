{
 "cells": [
  {
   "cell_type": "markdown",
   "metadata": {},
   "source": [
    "# Data Scholars Sp21 - Debugging Tips & Tricks\n",
    "\n",
    "As you learn how to code in Data 8, you will probably run into a variety of bugs and errors in your code. If your code doesn't run the first time, **do not panic!** Take a deep breath and check your code line by line. Coding can be frustrating because of how some small issue can cause your cell to break. Computers are powerful, but dumb, meaning that if you don't follow the correct syntax, it won't know what to do.\n",
    "\n",
    "But don't worry! Practice, communication, and collaboration will help.\n",
    "\n",
    "From Composing Programs (CS61A), here is how you should approach debugging:\n",
    "1. Test incrementally.\n",
    "2. Isolate errors.\n",
    "3. Check your assumptions.\n",
    "4. Consult others.\n",
    "\n",
    "Here's a guide on how to read errors: \n",
    "\n",
    "<img src=\"error.jpg\" alt=\"\"/>\n",
    "\n",
    "Here are some common issues you'll run into in Data 8:"
   ]
  },
  {
   "cell_type": "code",
   "execution_count": null,
   "metadata": {},
   "outputs": [],
   "source": [
    "# NameError: name ... is not defined\n",
    "# You didn't run a previous cell or an \"import\" cell; try running all cells\n",
    "# OR that variable doesn't exist yet (maybe something is spelled wrong?)\n",
    "grader.check(\"q1\")"
   ]
  },
  {
   "cell_type": "code",
   "execution_count": null,
   "metadata": {},
   "outputs": [],
   "source": [
    "# SyntaxError: unexpected EOF while parsing\n",
    "# You forgot a parentheses somewhere\n",
    "sum(3, 2, 5, 9"
   ]
  },
  {
   "cell_type": "code",
   "execution_count": null,
   "metadata": {},
   "outputs": [],
   "source": [
    "# SyntaxError: EOL while scanning string literal\n",
    "# you forgot a close quote somewhere\n",
    "\"hello"
   ]
  },
  {
   "cell_type": "code",
   "execution_count": null,
   "metadata": {},
   "outputs": [],
   "source": [
    "# SyntaxError: unmatched ...\n",
    "# you forgot the left parentheses somewhere\n",
    "hello)"
   ]
  },
  {
   "cell_type": "code",
   "execution_count": null,
   "metadata": {},
   "outputs": [],
   "source": [
    "# TypeError: unsupported operand type(s) for ...: \"int\" and \"str\"\n",
    "# You're trying to combine 2 incompatible data types, usually happens with strings or NoneTypes\n",
    "3 + \"45\""
   ]
  },
  {
   "cell_type": "code",
   "execution_count": null,
   "metadata": {},
   "outputs": [],
   "source": [
    "# AttributeError: ... object has no attribute ...\n",
    "# You cannot use that method on this data type\n",
    "# OR you mistyped a method or something\n",
    "\"hello\".item(0)"
   ]
  },
  {
   "cell_type": "code",
   "execution_count": null,
   "metadata": {},
   "outputs": [],
   "source": [
    "# TypeError: func() takes at most n arguments (x given)\n",
    "# You put too many arguments in your function\n",
    "sum(1, 2, 3)"
   ]
  },
  {
   "cell_type": "code",
   "execution_count": null,
   "metadata": {},
   "outputs": [],
   "source": [
    "# Importing our tools\n",
    "import numpy as np\n",
    "from datascience import *"
   ]
  },
  {
   "cell_type": "code",
   "execution_count": null,
   "metadata": {},
   "outputs": [],
   "source": [
    "# ValueError: operands could not be broadcast together with shapes ...\n",
    "# you're trying to combine 2 things of different lengths\n",
    "# another similar error is \"column length mismatch\" when working with tables\n",
    "make_array(1, 2, 3) / make_array(4, 5)"
   ]
  },
  {
   "cell_type": "code",
   "execution_count": null,
   "metadata": {},
   "outputs": [],
   "source": [
    "# Practice data\n",
    "test_data = Table().with_columns(\"a\", np.arange(5),\n",
    "                                 \"b\", [\"crab\", \"anemone\", \"octopus\", \"fish\", \"whale\"],\n",
    "                                 \"c\", make_array(42, 13, 19, 22, 56))\n",
    "\n",
    "# good idea to look at your dataset\n",
    "# for big datasets, tbl.show(#) is a good bet but remember that it creates a NoneType (like print(5))\n",
    "test_data"
   ]
  },
  {
   "cell_type": "code",
   "execution_count": null,
   "metadata": {},
   "outputs": [],
   "source": [
    "## Some general tips for debugging:\n",
    "# Break down your code into smaller steps, with multiple variables and useful names\n",
    "\n",
    "# Bad example:\n",
    "np.average(test_data.where(\"a\", are.above(1)).sort(\"b\", descending = True).column(\"c\"))\n",
    "\n",
    "# Better:\n",
    "above_one = test_data.where(\"a\", are.above(1))\n",
    "sorted_above = above_one.sort(\"b\", descending = True)\n",
    "sorted_arr = sorted_above.column(\"c\")\n",
    "np.average(sorted_arr)\n",
    "\n",
    "# Then, if you're stuck, you can view each step by looking at the variable or printing it\n",
    "print(sorted_arr)\n",
    "sorted_above"
   ]
  },
  {
   "cell_type": "markdown",
   "metadata": {},
   "source": [
    "## 2/2 Practice Problem: Array Arithmetic\n",
    "\n",
    "Complete the Leibniz equation for pi.\n",
    "\n",
    "Leibniz created the following equation that approximates pi:\n",
    "\n",
    "$\\pi = 4 * \\sum(1 - \\frac{1}{3} + \\frac{1}{5} - \\frac{1}{7} + \\frac{1}{9} - \\frac{1}{11} + \\frac{1}{13} - ...)$\n",
    "\n",
    "Let's try coding this using arrays in Python. To get an accurate approximation, let's use n = 10000 (i.e. use arrays of length 10,000 in your calculation).\n",
    "\n",
    "Hint 1: Try breaking this problem into separate parts. What are the patterns you notice in the equation?\n",
    "\n",
    "Hint 2: Use np.arange to create the arrays necessary for the calculation. What are your `start`, `stop`, and `end` arguments?"
   ]
  },
  {
   "cell_type": "code",
   "execution_count": null,
   "metadata": {},
   "outputs": [],
   "source": [
    "# Type your work here."
   ]
  }
 ],
 "metadata": {
  "history": [
   {
    "code": "3 * \"5\"",
    "id": "790ec5739cb744569f1edc71a1166e9d",
    "idx": 0,
    "time": "2021-02-01T19:21:32.179Z",
    "type": "execution"
   },
   {
    "id": "790ec5739cb744569f1edc71a1166e9d",
    "time": "2021-02-01T19:21:32.257Z",
    "type": "completion"
   },
   {
    "code": "3 - \"5\"",
    "id": "790ec5739cb744569f1edc71a1166e9d",
    "idx": 0,
    "time": "2021-02-01T19:21:35.364Z",
    "type": "execution"
   },
   {
    "id": "790ec5739cb744569f1edc71a1166e9d",
    "time": "2021-02-01T19:21:35.479Z",
    "type": "completion"
   },
   {
    "code": "# You didn't run a previous cell or an \"import\" cell\ngrader.check(\"q1\")",
    "id": "f55df727c7a8402284e2cac22a69b706",
    "idx": 1,
    "time": "2021-02-01T19:39:06.611Z",
    "type": "execution"
   },
   {
    "id": "f55df727c7a8402284e2cac22a69b706",
    "time": "2021-02-01T19:39:06.684Z",
    "type": "completion"
   },
   {
    "code": "\nsum(3, 2, 5, 9",
    "id": "e5f200a112af455c8a33e236f6a6a908",
    "idx": 2,
    "time": "2021-02-01T19:39:28.085Z",
    "type": "execution"
   },
   {
    "id": "e5f200a112af455c8a33e236f6a6a908",
    "time": "2021-02-01T19:39:28.152Z",
    "type": "completion"
   },
   {
    "code": "\"hello",
    "id": "c4304680dee24f47ba1608fc15a35664",
    "idx": 3,
    "time": "2021-02-01T19:39:45.106Z",
    "type": "execution"
   },
   {
    "id": "c4304680dee24f47ba1608fc15a35664",
    "time": "2021-02-01T19:39:45.179Z",
    "type": "completion"
   },
   {
    "code": "hello)",
    "id": "95ff25fecaee413a8b0c2ec03bd0b3ab",
    "idx": 4,
    "time": "2021-02-01T19:40:23.353Z",
    "type": "execution"
   },
   {
    "id": "95ff25fecaee413a8b0c2ec03bd0b3ab",
    "time": "2021-02-01T19:40:23.422Z",
    "type": "completion"
   },
   {
    "code": "hello)\nhello\"",
    "id": "95ff25fecaee413a8b0c2ec03bd0b3ab",
    "idx": 4,
    "time": "2021-02-01T19:40:27.279Z",
    "type": "execution"
   },
   {
    "id": "95ff25fecaee413a8b0c2ec03bd0b3ab",
    "time": "2021-02-01T19:40:27.349Z",
    "type": "completion"
   },
   {
    "code": "#hello)\nhello\"",
    "id": "95ff25fecaee413a8b0c2ec03bd0b3ab",
    "idx": 4,
    "time": "2021-02-01T19:40:29.881Z",
    "type": "execution"
   },
   {
    "id": "95ff25fecaee413a8b0c2ec03bd0b3ab",
    "time": "2021-02-01T19:40:29.943Z",
    "type": "completion"
   },
   {
    "code": "hello)\nhello\"",
    "id": "95ff25fecaee413a8b0c2ec03bd0b3ab",
    "idx": 4,
    "time": "2021-02-01T19:40:31.762Z",
    "type": "execution"
   },
   {
    "id": "95ff25fecaee413a8b0c2ec03bd0b3ab",
    "time": "2021-02-01T19:40:31.848Z",
    "type": "completion"
   },
   {
    "code": "hello)",
    "id": "95ff25fecaee413a8b0c2ec03bd0b3ab",
    "idx": 4,
    "time": "2021-02-01T19:40:33.824Z",
    "type": "execution"
   },
   {
    "id": "95ff25fecaee413a8b0c2ec03bd0b3ab",
    "time": "2021-02-01T19:40:33.886Z",
    "type": "completion"
   },
   {
    "code": "import numpy as np",
    "id": "67b1a12ee44b412187c8b4189aaf14a0",
    "idx": 5,
    "time": "2021-02-01T19:40:59.039Z",
    "type": "execution"
   },
   {
    "id": "67b1a12ee44b412187c8b4189aaf14a0",
    "time": "2021-02-01T19:40:59.218Z",
    "type": "completion"
   },
   {
    "code": "np.arange(\"1\")",
    "id": "a1b3d425f46842a79a0e68e0864dba95",
    "idx": 6,
    "time": "2021-02-01T19:41:12.211Z",
    "type": "execution"
   },
   {
    "id": "a1b3d425f46842a79a0e68e0864dba95",
    "time": "2021-02-01T19:41:12.288Z",
    "type": "completion"
   },
   {
    "code": "np.arange(\"6\")",
    "id": "a1b3d425f46842a79a0e68e0864dba95",
    "idx": 6,
    "time": "2021-02-01T19:41:15.108Z",
    "type": "execution"
   },
   {
    "id": "a1b3d425f46842a79a0e68e0864dba95",
    "time": "2021-02-01T19:41:15.177Z",
    "type": "completion"
   },
   {
    "code": "np.arange([1, 2, 3])",
    "id": "a1b3d425f46842a79a0e68e0864dba95",
    "idx": 6,
    "time": "2021-02-01T19:41:26.873Z",
    "type": "execution"
   },
   {
    "id": "a1b3d425f46842a79a0e68e0864dba95",
    "time": "2021-02-01T19:41:26.946Z",
    "type": "completion"
   },
   {
    "code": "#\n3 + \"45\"",
    "id": "67b1a12ee44b412187c8b4189aaf14a0",
    "idx": 5,
    "time": "2021-02-01T19:45:14.224Z",
    "type": "execution"
   },
   {
    "id": "67b1a12ee44b412187c8b4189aaf14a0",
    "time": "2021-02-01T19:45:14.289Z",
    "type": "completion"
   },
   {
    "code": "\"hello\".item(0)",
    "id": "a1b3d425f46842a79a0e68e0864dba95",
    "idx": 6,
    "time": "2021-02-01T19:45:46.877Z",
    "type": "execution"
   },
   {
    "id": "a1b3d425f46842a79a0e68e0864dba95",
    "time": "2021-02-01T19:45:46.946Z",
    "type": "completion"
   },
   {
    "code": "max(1, 2, 3)",
    "id": "ce3c0f50447b4c1e8a2216df250da9ee",
    "idx": 7,
    "time": "2021-02-01T19:46:10.259Z",
    "type": "execution"
   },
   {
    "id": "ce3c0f50447b4c1e8a2216df250da9ee",
    "time": "2021-02-01T19:46:10.331Z",
    "type": "completion"
   },
   {
    "code": "sum(1, 2, 3)",
    "id": "ce3c0f50447b4c1e8a2216df250da9ee",
    "idx": 7,
    "time": "2021-02-01T19:46:12.002Z",
    "type": "execution"
   },
   {
    "id": "ce3c0f50447b4c1e8a2216df250da9ee",
    "time": "2021-02-01T19:46:12.069Z",
    "type": "completion"
   },
   {
    "code": "sum(\"1\", \"2\")",
    "id": "fa5b0bda73c5448e88b373e3d3ac4ac8",
    "idx": 8,
    "time": "2021-02-01T19:47:39.616Z",
    "type": "execution"
   },
   {
    "id": "fa5b0bda73c5448e88b373e3d3ac4ac8",
    "time": "2021-02-01T19:47:39.729Z",
    "type": "completion"
   },
   {
    "code": "max(\"1\", \"2\")",
    "id": "fa5b0bda73c5448e88b373e3d3ac4ac8",
    "idx": 8,
    "time": "2021-02-01T19:47:46.630Z",
    "type": "execution"
   },
   {
    "id": "fa5b0bda73c5448e88b373e3d3ac4ac8",
    "time": "2021-02-01T19:47:46.695Z",
    "type": "completion"
   },
   {
    "code": "np.arange(\"1\", \"2\")",
    "id": "fa5b0bda73c5448e88b373e3d3ac4ac8",
    "idx": 8,
    "time": "2021-02-01T19:47:52.512Z",
    "type": "execution"
   },
   {
    "id": "fa5b0bda73c5448e88b373e3d3ac4ac8",
    "time": "2021-02-01T19:47:52.584Z",
    "type": "completion"
   },
   {
    "code": "np.arange",
    "id": "fa5b0bda73c5448e88b373e3d3ac4ac8",
    "idx": 8,
    "time": "2021-02-01T19:47:56.456Z",
    "type": "execution"
   },
   {
    "id": "fa5b0bda73c5448e88b373e3d3ac4ac8",
    "time": "2021-02-01T19:47:56.526Z",
    "type": "completion"
   },
   {
    "code": "np.arnge",
    "id": "fa5b0bda73c5448e88b373e3d3ac4ac8",
    "idx": 8,
    "time": "2021-02-01T19:48:03.987Z",
    "type": "execution"
   },
   {
    "id": "fa5b0bda73c5448e88b373e3d3ac4ac8",
    "time": "2021-02-01T19:48:04.058Z",
    "type": "completion"
   },
   {
    "code": "mix()",
    "id": "c65c0cfa34a341928226d04d28077100",
    "idx": 8,
    "time": "2021-02-01T19:48:17.686Z",
    "type": "execution"
   },
   {
    "id": "c65c0cfa34a341928226d04d28077100",
    "time": "2021-02-01T19:48:17.752Z",
    "type": "completion"
   },
   {
    "code": "import numpy as np\nfrom datascience import *",
    "id": "07b4b7ae48984fa397245410c1506401",
    "idx": 8,
    "time": "2021-02-01T19:53:27.382Z",
    "type": "execution"
   },
   {
    "id": "07b4b7ae48984fa397245410c1506401",
    "time": "2021-02-01T19:53:28.801Z",
    "type": "completion"
   },
   {
    "code": "test_data = Table().with_columns(\"a\", np.arange(5),\n                                 \"b\", [\"crab\", \"anemone\", \"octopus\", \"fish\", \"whale\"],\n                                 \"c\", make_array(42, 13, 19, 22, 56))",
    "id": "c52e481eac6f4493bee8512c122fccc5",
    "idx": 9,
    "time": "2021-02-01T19:54:48.713Z",
    "type": "execution"
   },
   {
    "id": "c52e481eac6f4493bee8512c122fccc5",
    "time": "2021-02-01T19:54:48.783Z",
    "type": "completion"
   },
   {
    "code": "test_data = Table().with_columns(\"a\", np.arange(5),\n                                 \"b\", [\"crab\", \"anemone\", \"octopus\", \"fish\", \"whale\"],\n                                 \"c\", make_array(42, 13, 19, 22, 56))\ntest_data",
    "id": "c52e481eac6f4493bee8512c122fccc5",
    "idx": 9,
    "time": "2021-02-01T19:54:50.891Z",
    "type": "execution"
   },
   {
    "id": "c52e481eac6f4493bee8512c122fccc5",
    "time": "2021-02-01T19:54:50.964Z",
    "type": "completion"
   },
   {
    "code": "## Some general tips for debugging:\n# Break down your code into multiple variables and use useful names\n\n# Bad example:\nnp.average(test_data.where(\"a\", are.above(1)).sort(\"b\", descending = True).column(\"c\"))\n\n# Better:\nabove_one = table.where(\"a\", are.above(1))\nsorted_above = above_one.sort(\"b\", descending = True)\nsorted_arr = sorted_above.column(\"c\")\nnp.average(sorted_arr)\n\n# If you're stuck, you can use",
    "id": "fac9efc434bb4f2084ad06326a7ddedb",
    "idx": 10,
    "time": "2021-02-01T19:54:53.327Z",
    "type": "execution"
   },
   {
    "id": "fac9efc434bb4f2084ad06326a7ddedb",
    "time": "2021-02-01T19:54:53.474Z",
    "type": "completion"
   },
   {
    "code": "## Some general tips for debugging:\n# Break down your code into multiple variables and use useful names\n\n# Bad example:\nnp.average(test_data.where(\"a\", are.above(1)).sort(\"b\", descending = True).column(\"c\"))\n\n# Better:\nabove_one = test_data.where(\"a\", are.above(1))\nsorted_above = above_one.sort(\"b\", descending = True)\nsorted_arr = sorted_above.column(\"c\")\nnp.average(sorted_arr)\n\n# If you're stuck, you can use",
    "id": "fac9efc434bb4f2084ad06326a7ddedb",
    "idx": 10,
    "time": "2021-02-01T19:54:57.678Z",
    "type": "execution"
   },
   {
    "id": "fac9efc434bb4f2084ad06326a7ddedb",
    "time": "2021-02-01T19:54:57.745Z",
    "type": "completion"
   },
   {
    "code": "## Some general tips for debugging:\n# Break down your code into multiple variables and use useful names\n\n# Bad example:\nnp.average(test_data.where(\"a\", are.above(1)).sort(\"b\", descending = True).column(\"c\"))\n\n# Better:\nabove_one = test_data.where(\"a\", are.above(1))\nsorted_above = above_one.sort(\"b\", descending = True)\nsorted_arr = sorted_above.column(\"c\")\nnp.average(sorted_arr)\n\n# Then, if you're stuck, you can view each step by looking at the variable or printing it\nsorted_above",
    "id": "fac9efc434bb4f2084ad06326a7ddedb",
    "idx": 10,
    "time": "2021-02-01T19:55:14.482Z",
    "type": "execution"
   },
   {
    "id": "fac9efc434bb4f2084ad06326a7ddedb",
    "time": "2021-02-01T19:55:14.547Z",
    "type": "completion"
   },
   {
    "code": "## Some general tips for debugging:\n# Break down your code into multiple variables and use useful names\n\n# Bad example:\nnp.average(test_data.where(\"a\", are.above(1)).sort(\"b\", descending = True).column(\"c\"))\n\n# Better:\nabove_one = test_data.where(\"a\", are.above(1))\nsorted_above = above_one.sort(\"b\", descending = True)\nsorted_arr = sorted_above.column(\"c\")\nnp.average(sorted_arr)\n\n# Then, if you're stuck, you can view each step by looking at the variable or printing it\nprint(sorted_arr)\nsorted_above",
    "id": "fac9efc434bb4f2084ad06326a7ddedb",
    "idx": 10,
    "time": "2021-02-01T19:55:38.911Z",
    "type": "execution"
   },
   {
    "id": "fac9efc434bb4f2084ad06326a7ddedb",
    "time": "2021-02-01T19:55:38.989Z",
    "type": "completion"
   },
   {
    "code": "make_array(1, 2, 3) / make_array(4, 5)",
    "id": "4cae3b7c6e5b4143b5853adbe4ba69e0",
    "idx": 9,
    "time": "2021-02-01T19:59:50.349Z",
    "type": "execution"
   },
   {
    "id": "4cae3b7c6e5b4143b5853adbe4ba69e0",
    "time": "2021-02-01T19:59:50.437Z",
    "type": "completion"
   },
   {
    "code": "test_data = Table().with_columns(\"a\", np.arange(5),\n                                 \"b\", [\"crab\", \"anemone\", \"octopus\", \"fish\"],\n                                 \"c\", make_array(42, 13, 19, 22, 56))\ntest_data",
    "id": "c52e481eac6f4493bee8512c122fccc5",
    "idx": 10,
    "time": "2021-02-01T20:00:14.330Z",
    "type": "execution"
   },
   {
    "id": "c52e481eac6f4493bee8512c122fccc5",
    "time": "2021-02-01T20:00:14.443Z",
    "type": "completion"
   },
   {
    "code": "test_data = Table().with_columns(\"a\", np.arange(5),\n                                 \"b\", [\"crab\", \"anemone\", \"octopus\", \"fish\", \"whale\"],\n                                 \"c\", make_array(42, 13, 19, 22, 56))\ntest_data",
    "id": "c52e481eac6f4493bee8512c122fccc5",
    "idx": 10,
    "time": "2021-02-01T20:00:18.446Z",
    "type": "execution"
   },
   {
    "id": "c52e481eac6f4493bee8512c122fccc5",
    "time": "2021-02-01T20:00:18.532Z",
    "type": "completion"
   }
  ],
  "kernelspec": {
   "display_name": "Python 3",
   "language": "python",
   "name": "python3"
  },
  "language_info": {
   "codemirror_mode": {
    "name": "ipython",
    "version": 3
   },
   "file_extension": ".py",
   "mimetype": "text/x-python",
   "name": "python",
   "nbconvert_exporter": "python",
   "pygments_lexer": "ipython3",
   "version": "3.8.6"
  }
 },
 "nbformat": 4,
 "nbformat_minor": 4
}
