{
 "cells": [
  {
   "cell_type": "code",
   "execution_count": 3,
   "metadata": {},
   "outputs": [],
   "source": [
    "from datascience import *\n",
    "%matplotlib inline\n",
    "import matplotlib.pyplot as plt\n",
    "plt.style.use('fivethirtyeight')\n",
    "import numpy as np"
   ]
  },
  {
   "cell_type": "markdown",
   "metadata": {},
   "source": [
    "## Background:\n",
    "\n",
    "### U.S. Supreme Court, 1965: Swain vs. Alabama ###\n",
    "\n",
    "In the early 1960's, in Talladega County in Alabama, a black man called Robert Swain was convicted of raping a white woman and was sentenced to death. He appealed his sentence, citing among other factors the all-white jury. At the time, only men aged 21 or older were allowed to serve on juries in Talladega County. In the county, 26% of the eligible jurors were black, but there were only 8 black men among the 100 selected for the jury panel in Swain's trial. No black man was selected for the trial jury.\n",
    "\n",
    "In 1965, the Supreme Court of the United States denied Swain's appeal. In its ruling, the Court wrote \"... the overall percentage disparity has been small and reflects no studied attempt to include or exclude a specified number of Negroes.\"\n",
    "\n",
    "Jury panels are supposed to be selected at random from the eligible population. Because 26% of the eligible population was black, 8 black men on a panel of 100 might seem low. "
   ]
  },
  {
   "cell_type": "code",
   "execution_count": null,
   "metadata": {},
   "outputs": [],
   "source": [
    "our_model = make_array(..., ...)\n",
    "another_model = make_array(..., ...)"
   ]
  },
  {
   "cell_type": "code",
   "execution_count": null,
   "metadata": {},
   "outputs": [],
   "source": [
    "# Let's practice sampling under a model using the sample_proportions function\n",
    "sample_proportions(...)"
   ]
  },
  {
   "cell_type": "code",
   "execution_count": 13,
   "metadata": {},
   "outputs": [],
   "source": [
    "# Confused about how it works? Check the documentation\n",
    "sample_proportions?"
   ]
  },
  {
   "cell_type": "code",
   "execution_count": 12,
   "metadata": {},
   "outputs": [],
   "source": [
    "## What's happening in the background of sample_proportions:\n",
    "\n",
    "example_table = Table().with_columns(\"Juror\", [\"Black\"] * 260 + [\"Non-Black\"] * 740).sample(with_replacement = False)\n",
    "#example_table # possible table of the population in Talladega\n",
    "one_sample = example_table.sample(100, with_replacement = False)\n",
    "#one_sample # pulling a sample of 100 people for a jury pool\n",
    "grouped_sample = one_sample.group(0)\n",
    "#grouped_sample # finding the number of people of each group\n",
    "example_props = grouped_sample.column(\"count\") / 100 \n",
    "#example_props # return the proportion we observed"
   ]
  },
  {
   "cell_type": "markdown",
   "metadata": {},
   "source": [
    "### Now that we know how to create samples from a specific model, let's create a statistic.\n",
    "\n",
    "Recall: given that we have 2 separate models, we want to be able to have a statistic that lets us choose a model. In other words, more extreme values should point towards 1 model, while less extreme values (closer to what we expect) should point towards another model.\n"
   ]
  },
  {
   "cell_type": "code",
   "execution_count": null,
   "metadata": {},
   "outputs": [],
   "source": [
    "def num_black_jurors(array):\n",
    "    ...\n",
    "    \n",
    "num_black_jurors(...)"
   ]
  },
  {
   "cell_type": "markdown",
   "metadata": {},
   "source": [
    "### Great! This says that if we randomly selected 100 jurors from Talladega County, this is how many Black jurors we would see in the pool. \n",
    "\n",
    "But that isn't enough; remember that this was just a single sample. To get a better idea of how samples would vary (i.e. if we went back and pulled a different 100 people randomly), we need to simulate using a for loop."
   ]
  },
  {
   "cell_type": "code",
   "execution_count": null,
   "metadata": {},
   "outputs": [],
   "source": [
    "num_trials = ...\n",
    "sample_counts = ...\n",
    "\n",
    "for _ in ...:\n",
    "    ...\n"
   ]
  },
  {
   "cell_type": "code",
   "execution_count": null,
   "metadata": {},
   "outputs": [],
   "source": [
    "# Run this cell to get a histogram of the possible samples we could get under one of the models\n",
    "Table().with_column('Count in a Random Sample', sample_counts).hist(bins = np.arange(5.5, 46.6, 1))"
   ]
  },
  {
   "cell_type": "code",
   "execution_count": null,
   "metadata": {},
   "outputs": [],
   "source": [
    "# Remember Swain only received 8 Black jurors in his pool; let's graph it to compare. \n",
    "Table().with_column('Count in a Random Sample', sample_counts).hist(bins = np.arange(5.5, 46.6, 1))\n",
    "plt.axvline(8, 0, color='red');"
   ]
  }
 ],
 "metadata": {
  "kernelspec": {
   "display_name": "Python 3",
   "language": "python",
   "name": "python3"
  },
  "language_info": {
   "codemirror_mode": {
    "name": "ipython",
    "version": 3
   },
   "file_extension": ".py",
   "mimetype": "text/x-python",
   "name": "python",
   "nbconvert_exporter": "python",
   "pygments_lexer": "ipython3",
   "version": "3.8.6"
  }
 },
 "nbformat": 4,
 "nbformat_minor": 4
}
