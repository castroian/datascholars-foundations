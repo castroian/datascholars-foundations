{
 "cells": [
  {
   "cell_type": "code",
   "execution_count": null,
   "metadata": {
    "scrolled": true
   },
   "outputs": [],
   "source": [
    "import numpy as np\n",
    "from datascience import *\n",
    "from math import *\n",
    "\n",
    "import matplotlib\n",
    "matplotlib.use('Agg', warn=False)\n",
    "%matplotlib inline\n",
    "import matplotlib.pyplot as plots\n",
    "plots.style.use('fivethirtyeight')"
   ]
  },
  {
   "cell_type": "markdown",
   "metadata": {},
   "source": [
    "## Fruit Probabilities - Spring 2020 Midterm Q1\n",
    "\n",
    "![prompt](fruitprobs1.png)\n",
    "\n",
    "![question](fruitprobs2.png)"
   ]
  },
  {
   "cell_type": "code",
   "execution_count": null,
   "metadata": {},
   "outputs": [],
   "source": [
    "# Here is our data set.\n",
    "fruit_table = Table().with_column(\"Fruit\", [\"Pear\"] * 3 + [\"Guava\"] * 5 + [\"Watermelon\"] * 4 + [\"Kiwi\"] * 3)\n",
    "fruit_table.show(3)\n",
    "\n",
    "fruits = fruit_table.column(\"Fruit\")\n",
    "fruits"
   ]
  },
  {
   "cell_type": "code",
   "execution_count": null,
   "metadata": {},
   "outputs": [],
   "source": [
    "# This is what we want to calculate:\n",
    "prob_2_diff_fruits = ... \n",
    "\n",
    "# but how? There are 2 ways: we can use mathematics or the power of computation to do this."
   ]
  },
  {
   "cell_type": "markdown",
   "metadata": {},
   "source": [
    "## To help you get started on today's challenge problem, here are some helper questions to get you started on the right path."
   ]
  },
  {
   "cell_type": "code",
   "execution_count": null,
   "metadata": {},
   "outputs": [],
   "source": [
    "# We can use 2 ways to randomly select values (without replacement specified by the argument)\n",
    "ids = np.arange(30) + 1 # [1, 2, 3, 4, ... 30]\n",
    "ids_table = Table().with_column(\"id\", ids)\n",
    "\n",
    "# Way 1: table sampling: 5 = sample size, with_replacement = False means without replacement\n",
    "ids_table.sample(5, with_replacement = False) # we can do .column(...) to get an array after "
   ]
  },
  {
   "cell_type": "code",
   "execution_count": null,
   "metadata": {},
   "outputs": [],
   "source": [
    "# Way 2: array sampling in numpy; size = sample size (5), replace = replacement, in this case False/without\n",
    "np.random.choice(ids, size = 5, replace = False) # already an array, NOT a table"
   ]
  },
  {
   "cell_type": "code",
   "execution_count": null,
   "metadata": {},
   "outputs": [],
   "source": [
    "# Let's apply this to the challenge problem. \n",
    "# Helper 1: randomly select 2 fruits, at random WITHOUT replacement, and assign the array to two_fruits\n",
    "two_fruits = ...\n",
    "two_fruits"
   ]
  },
  {
   "cell_type": "code",
   "execution_count": null,
   "metadata": {},
   "outputs": [],
   "source": [
    "# Helper 2: check if the two fruits in two_fruits are DIFFERENT using a boolean comparison \n",
    "# and assign that value to two_fruits_diff (True = different, False = same)\n",
    "two_fruits_diff = ... ... ...\n",
    "two_fruits_diff"
   ]
  },
  {
   "cell_type": "code",
   "execution_count": null,
   "metadata": {},
   "outputs": [],
   "source": [
    "# Helper 3: adapt that to an if/else statement\n",
    "# Using if/else and two_fruits_diff or a comparison, set the name \"diff\" to 0 if the fruits are the same\n",
    "# and 1 if they are not the same (because we care if the fruits are different)\n",
    "\n",
    "diff = None\n",
    "if ...: \n",
    "    ...\n",
    "else:\n",
    "    ...\n",
    "    \n",
    "diff"
   ]
  },
  {
   "cell_type": "markdown",
   "metadata": {},
   "source": [
    "## Today's Questions"
   ]
  },
  {
   "cell_type": "code",
   "execution_count": null,
   "metadata": {},
   "outputs": [],
   "source": [
    "# Question 1: Calculate an empirical probability of putting 2 different fruits in the smoothie\n",
    "# by using a for loop and boolean comparison to select 2 fruits 10000 times. \n",
    "# Hint: You can \"update\" a count by adding a variable to itself. For example: x = 5\n",
    "# x = x + 1 means \"Using the old value of x (5), add 1 to it and then rename x to the new value 6\"\n",
    "# Replace the _ with your answers\n",
    "\n",
    "diff_fruits_sum  = _\n",
    "\n",
    "for smoothie in _(_):\n",
    "    blended_fruits = _(fruits, _, replacement = _)\n",
    "    if _._(_) _ _._(_):\n",
    "        diff_fruits_sum = _\n",
    "    else:\n",
    "        diff_fruits_sum = _\n",
    "    \n",
    "prob_diff_fruits = _ / _ \n",
    "prob_diff_fruits "
   ]
  },
  {
   "cell_type": "code",
   "execution_count": null,
   "metadata": {},
   "outputs": [],
   "source": [
    "# Question 2: Using probability rules, find the theoretical probability of getting 2 different fruits \n",
    "# and assign to prob_diff\n",
    "prob_2_diff_fruits = ... \n",
    "prob_2_diff_fruits"
   ]
  },
  {
   "cell_type": "code",
   "execution_count": null,
   "metadata": {},
   "outputs": [],
   "source": [
    "# If time, another common setup for for loops in Data 8\n",
    "# Instead of using if/else and a counter, assign the boolean results to the array fruit_results\n",
    "# and calculate the probability\n",
    "\n",
    "fruit_results = ...\n",
    "num_trials = ...\n",
    "\n",
    "for ... in ...:\n",
    "    fruit_sample = ...\n",
    "    fruit_compare = ...\n",
    "    fruit_results = ...\n",
    "    \n",
    "prob_diff_fruits_2 = ...(...) / ..."
   ]
  }
 ],
 "metadata": {
  "kernelspec": {
   "display_name": "Python 3",
   "language": "python",
   "name": "python3"
  },
  "language_info": {
   "codemirror_mode": {
    "name": "ipython",
    "version": 3
   },
   "file_extension": ".py",
   "mimetype": "text/x-python",
   "name": "python",
   "nbconvert_exporter": "python",
   "pygments_lexer": "ipython3",
   "version": "3.7.6"
  }
 },
 "nbformat": 4,
 "nbformat_minor": 4
}
