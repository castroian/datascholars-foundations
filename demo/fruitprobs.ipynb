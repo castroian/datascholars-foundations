{
 "cells": [
  {
   "cell_type": "code",
   "execution_count": null,
   "metadata": {
    "scrolled": true
   },
   "outputs": [],
   "source": [
    "import numpy as np\n",
    "from datascience import *\n",
    "from math import *\n",
    "\n",
    "import matplotlib\n",
    "%matplotlib inline\n",
    "import matplotlib.pyplot as plots\n",
    "plots.style.use('fivethirtyeight')"
   ]
  },
  {
   "cell_type": "markdown",
   "metadata": {},
   "source": [
    "## Fruit Probabilities - Spring 2020 Midterm Q1\n",
    "\n",
    "![prompt](fruitprobs1.png)\n",
    "\n",
    "![question](fruitprobs2.png)"
   ]
  },
  {
   "cell_type": "code",
   "execution_count": null,
   "metadata": {},
   "outputs": [],
   "source": [
    "# Here is our data set.\n",
    "fruit_table = Table().with_column(\"Fruit\", [\"Pear\"] * 3 + [\"Guava\"] * 5 + [\"Watermelon\"] * 4 + [\"Kiwi\"] * 3)\n",
    "fruit_table.show(3)\n",
    "\n",
    "fruits = fruit_table.column(\"Fruit\")\n",
    "fruits"
   ]
  },
  {
   "cell_type": "markdown",
   "metadata": {},
   "source": [
    "## Today's Questions"
   ]
  },
  {
   "cell_type": "code",
   "execution_count": null,
   "metadata": {},
   "outputs": [],
   "source": [
    "# Question 1: Calculate an empirical probability of putting 2 different fruits in the smoothie\n",
    "# by using a for loop and boolean comparison to select 2 fruits 10000 times. \n",
    "# Hint: You can \"update\" a count by adding a variable to itself. For example: x = 5\n",
    "# x = x + 1 means \"Using the old value of x (5), add 1 to it and then rename x to the new value 6\"\n",
    "# Replace the _ with your answers\n",
    "\n",
    "diff_fruits_sum  = _\n",
    "\n",
    "for smoothie in _(_):\n",
    "    blended_fruits = _(fruits, _, replace = _) \n",
    "    if blended_fruits._(_) != blended_fruits._(_):\n",
    "        diff_fruits_count = _ + _\n",
    "    else:\n",
    "        diff_fruits_count = _ + _\n",
    "    \n",
    "prob_diff_fruits = _ / _ \n",
    "prob_diff_fruits "
   ]
  },
  {
   "cell_type": "code",
   "execution_count": null,
   "metadata": {},
   "outputs": [],
   "source": [
    "# Question 2: Using probability rules, find the theoretical probability of getting 2 different fruits \n",
    "# and assign to prob_diff; we'll do this next week\n",
    "prob_2_diff_fruits = ... \n",
    "prob_2_diff_fruits"
   ]
  },
  {
   "cell_type": "markdown",
   "metadata": {},
   "source": [
    "## To help you get started on today's challenge problem, here are some helper questions to get you started on the right path."
   ]
  },
  {
   "cell_type": "code",
   "execution_count": null,
   "metadata": {},
   "outputs": [],
   "source": [
    "# One way to sample randomly! (More on other ways to do this in a few weeks)\n",
    "# array sampling in numpy: size = sample size (5), replace = replacement, in this case False/without\n",
    "ids = np.arange(30) + 1 # [1, 2, 3, 4, ... 30]\n",
    "np.random.choice(ids, size = 5, replace = False) # already an array, NOT a table"
   ]
  },
  {
   "cell_type": "code",
   "execution_count": null,
   "metadata": {},
   "outputs": [],
   "source": [
    "# Let's apply this to the challenge problem. \n",
    "# Helper 1: randomly select 2 fruits, at random WITHOUT replacement, and assign the array to two_fruits\n",
    "two_fruits = ...\n",
    "two_fruits"
   ]
  },
  {
   "cell_type": "code",
   "execution_count": null,
   "metadata": {},
   "outputs": [],
   "source": [
    "# Helper 2: check if the two fruits in two_fruits are DIFFERENT using a boolean comparison \n",
    "# and assign that value to two_fruits_diff (True = different, False = same)\n",
    "two_fruits_diff = ... ... ...\n",
    "two_fruits_diff"
   ]
  },
  {
   "cell_type": "code",
   "execution_count": null,
   "metadata": {},
   "outputs": [],
   "source": [
    "# Helper 3: adapt that to an if/else statement\n",
    "# Using if/else and two_fruits_diff or a comparison, set the name \"diff\" to 0 if the fruits are the same\n",
    "# and 1 if they are not the same (because we care if the fruits are different)\n",
    "\n",
    "diff = None\n",
    "if ...: \n",
    "    ...\n",
    "else:\n",
    "    ...\n",
    "    \n",
    "diff"
   ]
  }
 ],
 "metadata": {
  "kernelspec": {
   "display_name": "Python 3",
   "language": "python",
   "name": "python3"
  },
  "language_info": {
   "codemirror_mode": {
    "name": "ipython",
    "version": 3
   },
   "file_extension": ".py",
   "mimetype": "text/x-python",
   "name": "python",
   "nbconvert_exporter": "python",
   "pygments_lexer": "ipython3",
   "version": "3.7.6"
  }
 },
 "nbformat": 4,
 "nbformat_minor": 4
}
